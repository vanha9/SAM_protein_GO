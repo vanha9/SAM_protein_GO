{
 "cells": [
  {
   "cell_type": "code",
   "execution_count": 1,
   "metadata": {},
   "outputs": [],
   "source": [
    "import torch\n",
    "from torch.utils.data import Dataset\n",
    "from torch_geometric.data import Data, Batch\n",
    "import pickle as pkl\n",
    "import numpy as np\n",
    "import os\n",
    "import sys\n",
    "import esm\n",
    "from torch_geometric.utils import to_dense_batch, to_scipy_sparse_matrix\n",
    "import scipy.sparse as sp\n",
    "import numpy as np\n",
    "from tqdm import tqdm"
   ]
  },
  {
   "cell_type": "code",
   "execution_count": 2,
   "metadata": {},
   "outputs": [],
   "source": [
    "processed_dir = '/data/protein_data/heal_data'"
   ]
  },
  {
   "cell_type": "code",
   "execution_count": 3,
   "metadata": {},
   "outputs": [],
   "source": [
    "train_graph_list = torch.load(os.path.join(processed_dir, \"AF2train_graph.pt\"))"
   ]
  },
  {
   "cell_type": "code",
   "execution_count": 4,
   "metadata": {},
   "outputs": [],
   "source": [
    "val_graph_list = torch.load(os.path.join(processed_dir, \"AF2val_graph.pt\"))"
   ]
  },
  {
   "cell_type": "code",
   "execution_count": 5,
   "metadata": {},
   "outputs": [],
   "source": [
    "test_graph_list = torch.load(os.path.join(processed_dir, \"AF2test_graph.pt\"))"
   ]
  },
  {
   "cell_type": "code",
   "execution_count": 6,
   "metadata": {},
   "outputs": [
    {
     "name": "stderr",
     "output_type": "stream",
     "text": [
      "100%|██████████| 38185/38185 [05:00<00:00, 126.88it/s]\n"
     ]
    }
   ],
   "source": [
    "train_laplacian = []\n",
    "for i in tqdm(range(len(train_graph_list))):\n",
    "    n_nodes = train_graph_list[i].x.shape[0]\n",
    "    adj = to_scipy_sparse_matrix(train_graph_list[i].edge_index, num_nodes=n_nodes)\n",
    "    degree_matrix = sp.diags(adj.sum(axis=1).A1)\n",
    "    normalized_laplacian = sp.eye(n_nodes) - degree_matrix.power(-0.5) @ adj @ degree_matrix.power(-0.5)\n",
    "    eigvals, eigvecs = np.linalg.eigh(normalized_laplacian.toarray())\n",
    "    train_laplacian.append(eigvecs)\n",
    "    \n",
    "file_path = os.path.join(processed_dir, \"AF2train_laplacian.pt\")\n",
    "torch.save(train_laplacian, file_path)"
   ]
  },
  {
   "cell_type": "code",
   "execution_count": 7,
   "metadata": {},
   "outputs": [
    {
     "name": "stderr",
     "output_type": "stream",
     "text": [
      "100%|██████████| 4242/4242 [00:36<00:00, 117.21it/s]\n"
     ]
    }
   ],
   "source": [
    "val_laplacian = []\n",
    "for i in tqdm(range(len(val_graph_list))):\n",
    "    n_nodes = val_graph_list[i].x.shape[0]\n",
    "    adj = to_scipy_sparse_matrix(val_graph_list[i].edge_index, num_nodes=n_nodes)\n",
    "    degree_matrix = sp.diags(adj.sum(axis=1).A1)\n",
    "    normalized_laplacian = sp.eye(n_nodes) - degree_matrix.power(-0.5) @ adj @ degree_matrix.power(-0.5)\n",
    "    eigvals, eigvecs = np.linalg.eigh(normalized_laplacian.toarray())\n",
    "    val_laplacian.append(eigvecs)\n",
    "    \n",
    "file_path = os.path.join(processed_dir, \"AF2val_laplacian.pt\")\n",
    "torch.save(val_laplacian, file_path)"
   ]
  },
  {
   "cell_type": "code",
   "execution_count": 8,
   "metadata": {},
   "outputs": [
    {
     "name": "stderr",
     "output_type": "stream",
     "text": [
      "100%|██████████| 567/567 [00:05<00:00, 100.84it/s]\n"
     ]
    }
   ],
   "source": [
    "test_laplacian = []\n",
    "for i in tqdm(range(len(test_graph_list))):\n",
    "    n_nodes = test_graph_list[i].x.shape[0]\n",
    "    adj = to_scipy_sparse_matrix(test_graph_list[i].edge_index, num_nodes=n_nodes)\n",
    "    degree_matrix = sp.diags(adj.sum(axis=1).A1)\n",
    "    normalized_laplacian = sp.eye(n_nodes) - degree_matrix.power(-0.5) @ adj @ degree_matrix.power(-0.5)\n",
    "    eigvals, eigvecs = np.linalg.eigh(normalized_laplacian.toarray())\n",
    "    test_laplacian.append(eigvecs)\n",
    "    \n",
    "file_path = os.path.join(processed_dir, \"AF2test_laplacian.pt\")\n",
    "torch.save(test_laplacian, file_path)"
   ]
  },
  {
   "cell_type": "code",
   "execution_count": null,
   "metadata": {},
   "outputs": [],
   "source": []
  }
 ],
 "metadata": {
  "kernelspec": {
   "display_name": "heal_env",
   "language": "python",
   "name": "heal_env"
  },
  "language_info": {
   "codemirror_mode": {
    "name": "ipython",
    "version": 3
   },
   "file_extension": ".py",
   "mimetype": "text/x-python",
   "name": "python",
   "nbconvert_exporter": "python",
   "pygments_lexer": "ipython3",
   "version": "3.10.13"
  }
 },
 "nbformat": 4,
 "nbformat_minor": 2
}
